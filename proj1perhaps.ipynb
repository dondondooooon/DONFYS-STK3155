{
  "nbformat": 4,
  "nbformat_minor": 0,
  "metadata": {
    "colab": {
      "provenance": []
    },
    "kernelspec": {
      "name": "python3",
      "display_name": "Python 3"
    },
    "language_info": {
      "name": "python"
    }
  },
  "cells": [
    {
      "cell_type": "markdown",
      "source": [
        "Setting design matrix of one dimensional function F equal to it's identity matrix\n",
        "* Mean square error should be equal to 0 "
      ],
      "metadata": {
        "id": "t92c9Mm-kS-S"
      }
    },
    {
      "cell_type": "code",
      "execution_count": null,
      "metadata": {
        "id": "qK0zsHsEkGDb"
      },
      "outputs": [],
      "source": []
    }
  ]
}